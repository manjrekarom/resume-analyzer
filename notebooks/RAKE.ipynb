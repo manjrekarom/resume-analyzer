{
 "cells": [
  {
   "cell_type": "code",
   "execution_count": 1,
   "id": "851a3b53",
   "metadata": {},
   "outputs": [
    {
     "name": "stderr",
     "output_type": "stream",
     "text": [
      "<frozen importlib._bootstrap>:219: RuntimeWarning: scipy._lib.messagestream.MessageStream size changed, may indicate binary incompatibility. Expected 56 from C header, got 64 from PyObject\n"
     ]
    }
   ],
   "source": [
    "import os\n",
    "import glob\n",
    "\n",
    "import spacy\n",
    "import numpy as np\n",
    "import pandas as pd\n",
    "from matplotlib import pyplot as plt\n",
    "\n",
    "from sklearn.metrics import ConfusionMatrixDisplay\n",
    "from sklearn.model_selection import train_test_split\n",
    "from sklearn.metrics.pairwise import cosine_similarity\n",
    "from sklearn.feature_extraction.text import CountVectorizer, TfidfTransformer, TfidfVectorizer"
   ]
  },
  {
   "cell_type": "code",
   "execution_count": 2,
   "id": "9b98d76a",
   "metadata": {},
   "outputs": [],
   "source": [
    "en = spacy.load('en_core_web_sm')"
   ]
  },
  {
   "cell_type": "code",
   "execution_count": 3,
   "id": "8b23c75a",
   "metadata": {},
   "outputs": [
    {
     "data": {
      "text/html": [
       "<div>\n",
       "<style scoped>\n",
       "    .dataframe tbody tr th:only-of-type {\n",
       "        vertical-align: middle;\n",
       "    }\n",
       "\n",
       "    .dataframe tbody tr th {\n",
       "        vertical-align: top;\n",
       "    }\n",
       "\n",
       "    .dataframe thead th {\n",
       "        text-align: right;\n",
       "    }\n",
       "</style>\n",
       "<table border=\"1\" class=\"dataframe\">\n",
       "  <thead>\n",
       "    <tr style=\"text-align: right;\">\n",
       "      <th></th>\n",
       "      <th>id</th>\n",
       "      <th>product_uid</th>\n",
       "      <th>relevance</th>\n",
       "    </tr>\n",
       "  </thead>\n",
       "  <tbody>\n",
       "    <tr>\n",
       "      <th>count</th>\n",
       "      <td>74067.000000</td>\n",
       "      <td>74067.000000</td>\n",
       "      <td>74067.000000</td>\n",
       "    </tr>\n",
       "    <tr>\n",
       "      <th>mean</th>\n",
       "      <td>112385.709223</td>\n",
       "      <td>142331.911553</td>\n",
       "      <td>2.381634</td>\n",
       "    </tr>\n",
       "    <tr>\n",
       "      <th>std</th>\n",
       "      <td>64016.573650</td>\n",
       "      <td>30770.774864</td>\n",
       "      <td>0.533984</td>\n",
       "    </tr>\n",
       "    <tr>\n",
       "      <th>min</th>\n",
       "      <td>2.000000</td>\n",
       "      <td>100001.000000</td>\n",
       "      <td>1.000000</td>\n",
       "    </tr>\n",
       "    <tr>\n",
       "      <th>25%</th>\n",
       "      <td>57163.500000</td>\n",
       "      <td>115128.500000</td>\n",
       "      <td>2.000000</td>\n",
       "    </tr>\n",
       "    <tr>\n",
       "      <th>50%</th>\n",
       "      <td>113228.000000</td>\n",
       "      <td>137334.000000</td>\n",
       "      <td>2.330000</td>\n",
       "    </tr>\n",
       "    <tr>\n",
       "      <th>75%</th>\n",
       "      <td>168275.500000</td>\n",
       "      <td>166883.500000</td>\n",
       "      <td>3.000000</td>\n",
       "    </tr>\n",
       "    <tr>\n",
       "      <th>max</th>\n",
       "      <td>221473.000000</td>\n",
       "      <td>206650.000000</td>\n",
       "      <td>3.000000</td>\n",
       "    </tr>\n",
       "  </tbody>\n",
       "</table>\n",
       "</div>"
      ],
      "text/plain": [
       "                  id    product_uid     relevance\n",
       "count   74067.000000   74067.000000  74067.000000\n",
       "mean   112385.709223  142331.911553      2.381634\n",
       "std     64016.573650   30770.774864      0.533984\n",
       "min         2.000000  100001.000000      1.000000\n",
       "25%     57163.500000  115128.500000      2.000000\n",
       "50%    113228.000000  137334.000000      2.330000\n",
       "75%    168275.500000  166883.500000      3.000000\n",
       "max    221473.000000  206650.000000      3.000000"
      ]
     },
     "execution_count": 3,
     "metadata": {},
     "output_type": "execute_result"
    }
   ],
   "source": [
    "DATASETS_HOME = '../datasets'\n",
    "\n",
    "train_df = pd.read_csv(os.path.join(DATASETS_HOME, 'home-depot/train.csv'))\n",
    "train_df.describe()"
   ]
  },
  {
   "cell_type": "code",
   "execution_count": 4,
   "id": "6e50c3f9",
   "metadata": {},
   "outputs": [
    {
     "data": {
      "text/html": [
       "<div>\n",
       "<style scoped>\n",
       "    .dataframe tbody tr th:only-of-type {\n",
       "        vertical-align: middle;\n",
       "    }\n",
       "\n",
       "    .dataframe tbody tr th {\n",
       "        vertical-align: top;\n",
       "    }\n",
       "\n",
       "    .dataframe thead th {\n",
       "        text-align: right;\n",
       "    }\n",
       "</style>\n",
       "<table border=\"1\" class=\"dataframe\">\n",
       "  <thead>\n",
       "    <tr style=\"text-align: right;\">\n",
       "      <th></th>\n",
       "      <th>id</th>\n",
       "      <th>product_uid</th>\n",
       "      <th>product_title</th>\n",
       "      <th>search_term</th>\n",
       "      <th>relevance</th>\n",
       "      <th>product_description</th>\n",
       "    </tr>\n",
       "  </thead>\n",
       "  <tbody>\n",
       "    <tr>\n",
       "      <th>0</th>\n",
       "      <td>2</td>\n",
       "      <td>100001</td>\n",
       "      <td>Simpson Strong-Tie 12-Gauge Angle</td>\n",
       "      <td>angle bracket</td>\n",
       "      <td>3.00</td>\n",
       "      <td>Not only do angles make joints stronger, they ...</td>\n",
       "    </tr>\n",
       "    <tr>\n",
       "      <th>1</th>\n",
       "      <td>3</td>\n",
       "      <td>100001</td>\n",
       "      <td>Simpson Strong-Tie 12-Gauge Angle</td>\n",
       "      <td>l bracket</td>\n",
       "      <td>2.50</td>\n",
       "      <td>Not only do angles make joints stronger, they ...</td>\n",
       "    </tr>\n",
       "    <tr>\n",
       "      <th>2</th>\n",
       "      <td>9</td>\n",
       "      <td>100002</td>\n",
       "      <td>BEHR Premium Textured DeckOver 1-gal. #SC-141 ...</td>\n",
       "      <td>deck over</td>\n",
       "      <td>3.00</td>\n",
       "      <td>BEHR Premium Textured DECKOVER is an innovativ...</td>\n",
       "    </tr>\n",
       "    <tr>\n",
       "      <th>3</th>\n",
       "      <td>16</td>\n",
       "      <td>100005</td>\n",
       "      <td>Delta Vero 1-Handle Shower Only Faucet Trim Ki...</td>\n",
       "      <td>rain shower head</td>\n",
       "      <td>2.33</td>\n",
       "      <td>Update your bathroom with the Delta Vero Singl...</td>\n",
       "    </tr>\n",
       "    <tr>\n",
       "      <th>4</th>\n",
       "      <td>17</td>\n",
       "      <td>100005</td>\n",
       "      <td>Delta Vero 1-Handle Shower Only Faucet Trim Ki...</td>\n",
       "      <td>shower only faucet</td>\n",
       "      <td>2.67</td>\n",
       "      <td>Update your bathroom with the Delta Vero Singl...</td>\n",
       "    </tr>\n",
       "  </tbody>\n",
       "</table>\n",
       "</div>"
      ],
      "text/plain": [
       "   id  product_uid                                      product_title  \\\n",
       "0   2       100001                  Simpson Strong-Tie 12-Gauge Angle   \n",
       "1   3       100001                  Simpson Strong-Tie 12-Gauge Angle   \n",
       "2   9       100002  BEHR Premium Textured DeckOver 1-gal. #SC-141 ...   \n",
       "3  16       100005  Delta Vero 1-Handle Shower Only Faucet Trim Ki...   \n",
       "4  17       100005  Delta Vero 1-Handle Shower Only Faucet Trim Ki...   \n",
       "\n",
       "          search_term  relevance  \\\n",
       "0       angle bracket       3.00   \n",
       "1           l bracket       2.50   \n",
       "2           deck over       3.00   \n",
       "3    rain shower head       2.33   \n",
       "4  shower only faucet       2.67   \n",
       "\n",
       "                                 product_description  \n",
       "0  Not only do angles make joints stronger, they ...  \n",
       "1  Not only do angles make joints stronger, they ...  \n",
       "2  BEHR Premium Textured DECKOVER is an innovativ...  \n",
       "3  Update your bathroom with the Delta Vero Singl...  \n",
       "4  Update your bathroom with the Delta Vero Singl...  "
      ]
     },
     "execution_count": 4,
     "metadata": {},
     "output_type": "execute_result"
    }
   ],
   "source": [
    "train_df.head()"
   ]
  },
  {
   "cell_type": "code",
   "execution_count": 5,
   "id": "c38b1f68",
   "metadata": {},
   "outputs": [
    {
     "name": "stdout",
     "output_type": "stream",
     "text": [
      "1.0 3.0\n"
     ]
    }
   ],
   "source": [
    "min_rel, max_rel = train_df['relevance'].min(), train_df['relevance'].max()\n",
    "print(min_rel, max_rel)"
   ]
  },
  {
   "cell_type": "code",
   "execution_count": 6,
   "id": "dfc90931",
   "metadata": {},
   "outputs": [],
   "source": [
    "X = train_df[['product_title', 'search_term', 'product_description']] \n",
    "y = train_df['relevance']"
   ]
  },
  {
   "cell_type": "code",
   "execution_count": 7,
   "id": "ee643d46",
   "metadata": {},
   "outputs": [],
   "source": [
    "X_train, X_test, y_train, y_test = train_test_split(X, y, test_size=0.3,)"
   ]
  },
  {
   "cell_type": "code",
   "execution_count": 8,
   "id": "7af11624",
   "metadata": {},
   "outputs": [],
   "source": [
    "def preprocess(text):\n",
    "    # TODO:\n",
    "    # remove punctuation\n",
    "    # try spacy stopwords, or something else\n",
    "    \n",
    "    return text\n",
    "\n",
    "\n",
    "# TODO: Try BM25\n",
    "\n",
    "\n",
    "tfidf_model = TfidfVectorizer(\n",
    "    strip_accents='ascii',\n",
    "    max_df=0.95,\n",
    "    min_df=0.01,\n",
    "    max_features=5000\n",
    ").fit(X_train['product_description'])"
   ]
  },
  {
   "cell_type": "code",
   "execution_count": 9,
   "id": "8c768cd3",
   "metadata": {},
   "outputs": [],
   "source": [
    "def cosim(queries, candidates):\n",
    "    return cosine_similarity(queries, candidates)"
   ]
  },
  {
   "cell_type": "code",
   "execution_count": 10,
   "id": "9d238c11",
   "metadata": {},
   "outputs": [],
   "source": [
    "def change_pred_range(pred, low=1.0, high=3.0):\n",
    "    return pred / pred.max() * (high-low) + low"
   ]
  },
  {
   "cell_type": "code",
   "execution_count": 11,
   "id": "8d096dd8",
   "metadata": {},
   "outputs": [],
   "source": [
    "# MSE\n",
    "def mse(pred, target):\n",
    "    return np.mean((pred.diagonal() - target) ** 2)"
   ]
  },
  {
   "cell_type": "code",
   "execution_count": 12,
   "id": "9a15575f",
   "metadata": {},
   "outputs": [
    {
     "data": {
      "text/plain": [
       "0.7910622175629098"
      ]
     },
     "execution_count": 12,
     "metadata": {},
     "output_type": "execute_result"
    }
   ],
   "source": [
    "# when using product title; train set\n",
    "k = 5000\n",
    "\n",
    "tfidf_candidates = tfidf_model.transform(X_train['product_description'])[:k]\n",
    "tfidf_queries = tfidf_model.transform(X_train['product_title'])[:k]\n",
    "y_pred = cosim(tfidf_queries, tfidf_candidates)\n",
    "\n",
    "y_pred = change_pred_range(y_pred)\n",
    "mse(y_pred, y_train[:k])"
   ]
  },
  {
   "cell_type": "code",
   "execution_count": 13,
   "id": "3cefc349",
   "metadata": {},
   "outputs": [
    {
     "data": {
      "text/plain": [
       "0.7596558702564468"
      ]
     },
     "execution_count": 13,
     "metadata": {},
     "output_type": "execute_result"
    }
   ],
   "source": [
    "# when using product title; test set\n",
    "k = 5000\n",
    "\n",
    "tfidf_candidates = tfidf_model.transform(X_test['product_description'])[:k]\n",
    "tfidf_queries = tfidf_model.transform(X_test['product_title'])[:k]\n",
    "y_pred = cosim(tfidf_queries, tfidf_candidates)\n",
    "\n",
    "y_pred = change_pred_range(y_pred)\n",
    "mse(y_pred, y_test[:k])"
   ]
  },
  {
   "cell_type": "code",
   "execution_count": 14,
   "id": "737ef392",
   "metadata": {},
   "outputs": [
    {
     "data": {
      "text/plain": [
       "1.4188541179110097"
      ]
     },
     "execution_count": 14,
     "metadata": {},
     "output_type": "execute_result"
    }
   ],
   "source": [
    "# when using search term; train set\n",
    "k = 5000\n",
    "\n",
    "tfidf_candidates = tfidf_model.transform(X_train['product_description'])[:k]\n",
    "tfidf_queries = tfidf_model.transform(X_train['search_term'])[:k]\n",
    "y_pred = cosim(tfidf_queries, tfidf_candidates)\n",
    "\n",
    "y_pred = change_pred_range(y_pred)\n",
    "mse(y_pred, y_train[:k])"
   ]
  },
  {
   "cell_type": "code",
   "execution_count": 15,
   "id": "e3edbed6",
   "metadata": {},
   "outputs": [
    {
     "data": {
      "text/plain": [
       "1.3966599556796269"
      ]
     },
     "execution_count": 15,
     "metadata": {},
     "output_type": "execute_result"
    }
   ],
   "source": [
    "# when using search term; test set\n",
    "k = 5000\n",
    "\n",
    "tfidf_candidates = tfidf_model.transform(X_test['product_description'])[:k]\n",
    "tfidf_queries = tfidf_model.transform(X_test['search_term'])[:k]\n",
    "y_pred = cosim(tfidf_queries, tfidf_candidates)\n",
    "\n",
    "y_pred = change_pred_range(y_pred)\n",
    "mse(y_pred, y_test[:k])"
   ]
  },
  {
   "cell_type": "code",
   "execution_count": 16,
   "id": "c56ad423",
   "metadata": {},
   "outputs": [
    {
     "data": {
      "text/html": [
       "<div>\n",
       "<style scoped>\n",
       "    .dataframe tbody tr th:only-of-type {\n",
       "        vertical-align: middle;\n",
       "    }\n",
       "\n",
       "    .dataframe tbody tr th {\n",
       "        vertical-align: top;\n",
       "    }\n",
       "\n",
       "    .dataframe thead th {\n",
       "        text-align: right;\n",
       "    }\n",
       "</style>\n",
       "<table border=\"1\" class=\"dataframe\">\n",
       "  <thead>\n",
       "    <tr style=\"text-align: right;\">\n",
       "      <th></th>\n",
       "      <th>product_title</th>\n",
       "      <th>search_term</th>\n",
       "      <th>product_description</th>\n",
       "    </tr>\n",
       "  </thead>\n",
       "  <tbody>\n",
       "    <tr>\n",
       "      <th>37699</th>\n",
       "      <td>6.5 ft. Verde Spruce Artificial Christmas Tree...</td>\n",
       "      <td>douglas fur fake christmas trees</td>\n",
       "      <td>Enhance your living area this holiday season w...</td>\n",
       "    </tr>\n",
       "    <tr>\n",
       "      <th>59577</th>\n",
       "      <td>Trewax 12.35 oz. Paste Wax Clear Can (2-Pack)</td>\n",
       "      <td>nonslip floor wax</td>\n",
       "      <td>Made with natural Brazilian carnauba wax, Trew...</td>\n",
       "    </tr>\n",
       "    <tr>\n",
       "      <th>14859</th>\n",
       "      <td>Hampton Bay Welton 34 in. Round Cauldron Fire Pit</td>\n",
       "      <td>fire bowl</td>\n",
       "      <td>Add a touch of elegant warmth to your outdoor ...</td>\n",
       "    </tr>\n",
       "    <tr>\n",
       "      <th>28797</th>\n",
       "      <td>Everbilt 11 in. Black Gate Spring</td>\n",
       "      <td>cant slam gate closer</td>\n",
       "      <td>The Everbilt 11 in. Black Gate Spring features...</td>\n",
       "    </tr>\n",
       "    <tr>\n",
       "      <th>36814</th>\n",
       "      <td>JAG PLUMBING PRODUCTS MOEN Posi-Temp Shower Ha...</td>\n",
       "      <td>shower plumbing</td>\n",
       "      <td>Repair your MOEN brand Posi-Temp model shower ...</td>\n",
       "    </tr>\n",
       "    <tr>\n",
       "      <th>62911</th>\n",
       "      <td>Night Owl 1000 ft. 18 AWG In-Wall Fire Rated C...</td>\n",
       "      <td>fire rated buildng materials</td>\n",
       "      <td>Night Owl's CAB-RG59W-1000VP is 1000 ft. of in...</td>\n",
       "    </tr>\n",
       "    <tr>\n",
       "      <th>71408</th>\n",
       "      <td>International Concepts 36 in. High Solid Paraw...</td>\n",
       "      <td>solid wood cabinet formica tabletop</td>\n",
       "      <td>This cabinet has a ton of storage room and can...</td>\n",
       "    </tr>\n",
       "    <tr>\n",
       "      <th>53734</th>\n",
       "      <td>Vortex 4 in. Powerfan Inline Duct Fan</td>\n",
       "      <td>in line fan</td>\n",
       "      <td>Manufactured in Canada, the Vortex Powerfans I...</td>\n",
       "    </tr>\n",
       "    <tr>\n",
       "      <th>62888</th>\n",
       "      <td>Illumine 1 Light Whispering Pines Mini Pendant...</td>\n",
       "      <td>whispering pine 2'x3.5'</td>\n",
       "      <td>The Meyda Tiffany brand is inspired by the Ita...</td>\n",
       "    </tr>\n",
       "    <tr>\n",
       "      <th>53000</th>\n",
       "      <td>Husky 18 in. x 100 in. Premium Solid Drawer Li...</td>\n",
       "      <td>portable tool storage</td>\n",
       "      <td>The Husky Multi-Purpose Premium Solid Drawer L...</td>\n",
       "    </tr>\n",
       "    <tr>\n",
       "      <th>7442</th>\n",
       "      <td>Pressure Gauge</td>\n",
       "      <td>house water pressure gauge</td>\n",
       "      <td>The Orbit Pressure Gauge can determine water p...</td>\n",
       "    </tr>\n",
       "    <tr>\n",
       "      <th>44896</th>\n",
       "      <td>Artistic Weavers BradleyåÊBurnt Orange 5 ft. x...</td>\n",
       "      <td>burnt orange</td>\n",
       "      <td>Surround your space in the exquisiteness of cl...</td>\n",
       "    </tr>\n",
       "    <tr>\n",
       "      <th>16677</th>\n",
       "      <td>Steves &amp;amp; Sons Rustic 2-Panel Speakeasy Sta...</td>\n",
       "      <td>wood entry doors</td>\n",
       "      <td>Experience the warmth of wood with this staine...</td>\n",
       "    </tr>\n",
       "    <tr>\n",
       "      <th>72515</th>\n",
       "      <td>RAVE Sports Diablo III 67 in. x 75 in. Inflata...</td>\n",
       "      <td>towable boat pulls</td>\n",
       "      <td>The RAVE Sports 02641 Diablo III Boat Towable ...</td>\n",
       "    </tr>\n",
       "    <tr>\n",
       "      <th>59484</th>\n",
       "      <td>Clarke Maxxi-35 9 gal. Wet/Dry Vac</td>\n",
       "      <td>wet vac fitting</td>\n",
       "      <td>The Maxxi 35 wet/dry vac features a unique fil...</td>\n",
       "    </tr>\n",
       "    <tr>\n",
       "      <th>55466</th>\n",
       "      <td>Bosch 12 in. Daredevil QC Spade Bit Extension</td>\n",
       "      <td>boscj bit</td>\n",
       "      <td>Drilling at Bosch begins with the speed and po...</td>\n",
       "    </tr>\n",
       "    <tr>\n",
       "      <th>6534</th>\n",
       "      <td>Tenax 3 ft. x 25 ft. Black Poultry Hex Fence</td>\n",
       "      <td>fencing wire  2x3 inch mesh</td>\n",
       "      <td>This long lasting, UV stabilized, black plasti...</td>\n",
       "    </tr>\n",
       "    <tr>\n",
       "      <th>38230</th>\n",
       "      <td>Trademark Fine Art 35 in. x 47 in. Officially ...</td>\n",
       "      <td>wwe</td>\n",
       "      <td>This Officially Licensed WWE Kids John Cena pr...</td>\n",
       "    </tr>\n",
       "    <tr>\n",
       "      <th>14054</th>\n",
       "      <td>KOHLER Double Door 25 in. W x 26 in. H x 5 in....</td>\n",
       "      <td>5 in filter cabinet</td>\n",
       "      <td>With a sleek mirrored surface inside and outsi...</td>\n",
       "    </tr>\n",
       "    <tr>\n",
       "      <th>44389</th>\n",
       "      <td>Rust-Oleum Restore 1-qt. Real Orange Outdoor F...</td>\n",
       "      <td>patio furniture paint</td>\n",
       "      <td>Restore 1-qt. Real Orange Outdoor Furniture Co...</td>\n",
       "    </tr>\n",
       "  </tbody>\n",
       "</table>\n",
       "</div>"
      ],
      "text/plain": [
       "                                           product_title  \\\n",
       "37699  6.5 ft. Verde Spruce Artificial Christmas Tree...   \n",
       "59577      Trewax 12.35 oz. Paste Wax Clear Can (2-Pack)   \n",
       "14859  Hampton Bay Welton 34 in. Round Cauldron Fire Pit   \n",
       "28797                  Everbilt 11 in. Black Gate Spring   \n",
       "36814  JAG PLUMBING PRODUCTS MOEN Posi-Temp Shower Ha...   \n",
       "62911  Night Owl 1000 ft. 18 AWG In-Wall Fire Rated C...   \n",
       "71408  International Concepts 36 in. High Solid Paraw...   \n",
       "53734              Vortex 4 in. Powerfan Inline Duct Fan   \n",
       "62888  Illumine 1 Light Whispering Pines Mini Pendant...   \n",
       "53000  Husky 18 in. x 100 in. Premium Solid Drawer Li...   \n",
       "7442                                      Pressure Gauge   \n",
       "44896  Artistic Weavers BradleyåÊBurnt Orange 5 ft. x...   \n",
       "16677  Steves &amp; Sons Rustic 2-Panel Speakeasy Sta...   \n",
       "72515  RAVE Sports Diablo III 67 in. x 75 in. Inflata...   \n",
       "59484                 Clarke Maxxi-35 9 gal. Wet/Dry Vac   \n",
       "55466      Bosch 12 in. Daredevil QC Spade Bit Extension   \n",
       "6534        Tenax 3 ft. x 25 ft. Black Poultry Hex Fence   \n",
       "38230  Trademark Fine Art 35 in. x 47 in. Officially ...   \n",
       "14054  KOHLER Double Door 25 in. W x 26 in. H x 5 in....   \n",
       "44389  Rust-Oleum Restore 1-qt. Real Orange Outdoor F...   \n",
       "\n",
       "                               search_term  \\\n",
       "37699     douglas fur fake christmas trees   \n",
       "59577                    nonslip floor wax   \n",
       "14859                            fire bowl   \n",
       "28797                cant slam gate closer   \n",
       "36814                      shower plumbing   \n",
       "62911         fire rated buildng materials   \n",
       "71408  solid wood cabinet formica tabletop   \n",
       "53734                          in line fan   \n",
       "62888              whispering pine 2'x3.5'   \n",
       "53000                portable tool storage   \n",
       "7442            house water pressure gauge   \n",
       "44896                         burnt orange   \n",
       "16677                     wood entry doors   \n",
       "72515                   towable boat pulls   \n",
       "59484                      wet vac fitting   \n",
       "55466                            boscj bit   \n",
       "6534           fencing wire  2x3 inch mesh   \n",
       "38230                                  wwe   \n",
       "14054                  5 in filter cabinet   \n",
       "44389                patio furniture paint   \n",
       "\n",
       "                                     product_description  \n",
       "37699  Enhance your living area this holiday season w...  \n",
       "59577  Made with natural Brazilian carnauba wax, Trew...  \n",
       "14859  Add a touch of elegant warmth to your outdoor ...  \n",
       "28797  The Everbilt 11 in. Black Gate Spring features...  \n",
       "36814  Repair your MOEN brand Posi-Temp model shower ...  \n",
       "62911  Night Owl's CAB-RG59W-1000VP is 1000 ft. of in...  \n",
       "71408  This cabinet has a ton of storage room and can...  \n",
       "53734  Manufactured in Canada, the Vortex Powerfans I...  \n",
       "62888  The Meyda Tiffany brand is inspired by the Ita...  \n",
       "53000  The Husky Multi-Purpose Premium Solid Drawer L...  \n",
       "7442   The Orbit Pressure Gauge can determine water p...  \n",
       "44896  Surround your space in the exquisiteness of cl...  \n",
       "16677  Experience the warmth of wood with this staine...  \n",
       "72515  The RAVE Sports 02641 Diablo III Boat Towable ...  \n",
       "59484  The Maxxi 35 wet/dry vac features a unique fil...  \n",
       "55466  Drilling at Bosch begins with the speed and po...  \n",
       "6534   This long lasting, UV stabilized, black plasti...  \n",
       "38230  This Officially Licensed WWE Kids John Cena pr...  \n",
       "14054  With a sleek mirrored surface inside and outsi...  \n",
       "44389  Restore 1-qt. Real Orange Outdoor Furniture Co...  "
      ]
     },
     "execution_count": 16,
     "metadata": {},
     "output_type": "execute_result"
    }
   ],
   "source": [
    "# visual inspection of quality\n",
    "# randomly sample about 20 examples\n",
    "\n",
    "k = 20\n",
    "\n",
    "idxs = np.random.randint(0, len(X_test), size=(k,))\n",
    "X_test.iloc[idxs][['product_title', 'search_term', 'product_description']]"
   ]
  },
  {
   "cell_type": "code",
   "execution_count": 17,
   "id": "532f2713",
   "metadata": {},
   "outputs": [
    {
     "data": {
      "image/png": "[encoded data removed]",
      "text/plain": [
       "<Figure size 720x864 with 2 Axes>"
      ]
     },
     "metadata": {
      "needs_background": "light"
     },
     "output_type": "display_data"
    }
   ],
   "source": [
    "tfidf_candidates = tfidf_model.transform(X_test.iloc[idxs]['product_description'])\n",
    "tfidf_queries = tfidf_model.transform(X_test.iloc[idxs]['product_title'])\n",
    "y_pred_rand = cosim(tfidf_queries, tfidf_candidates)\n",
    "\n",
    "\n",
    "ConfusionMatrixDisplay(y_pred_rand).plot()\n",
    "fig = plt.gcf()\n",
    "fig.set_size_inches(10, 12)\n",
    "plt.show()"
   ]
  },
  {
   "cell_type": "code",
   "execution_count": 18,
   "id": "a6e89846",
   "metadata": {},
   "outputs": [
    {
     "data": {
      "image/png": "[encoded data removed]",
      "text/plain": [
       "<Figure size 720x864 with 2 Axes>"
      ]
     },
     "metadata": {
      "needs_background": "light"
     },
     "output_type": "display_data"
    }
   ],
   "source": [
    "tfidf_candidates = tfidf_model.transform(X_test.iloc[idxs]['product_description'])\n",
    "tfidf_queries = tfidf_model.transform(X_test.iloc[idxs]['search_term'])\n",
    "y_pred_rand = cosim(tfidf_queries, tfidf_candidates)\n",
    "\n",
    "\n",
    "ConfusionMatrixDisplay(y_pred_rand).plot()\n",
    "fig = plt.gcf()\n",
    "fig.set_size_inches(10, 12)\n",
    "plt.show()"
   ]
  },
  {
   "cell_type": "markdown",
   "id": "7ef6b513",
   "metadata": {},
   "source": [
    "## Resume Dataset - 1"
   ]
  },
  {
   "cell_type": "code",
   "execution_count": 19,
   "id": "27641584",
   "metadata": {},
   "outputs": [],
   "source": [
    "with open(os.path.join(DATASETS_HOME, 'resume-corpus/skills_it.txt'), 'r') as f:\n",
    "    jds = f.read()"
   ]
  },
  {
   "cell_type": "code",
   "execution_count": 20,
   "id": "bb3e2c8e",
   "metadata": {},
   "outputs": [],
   "source": [
    "job_descriptions = {}\n",
    "\n",
    "for i, jd in enumerate(jds.split('::::::\\n::::::\\n')):\n",
    "    # first occurrence of ':::'\n",
    "    idx1 = jd.find(':::')\n",
    "    idx2 = jd.find(':::', idx1+3)\n",
    "    role = jd[idx1+3: idx2].split(';')[0]\n",
    "    job_descriptions[role] = role + ' ' + jd[idx2+3:]"
   ]
  },
  {
   "cell_type": "code",
   "execution_count": 21,
   "id": "424c22fe",
   "metadata": {},
   "outputs": [],
   "source": [
    "# all the text files\n",
    "files = glob.glob(os.path.join(DATASETS_HOME, 'resume-corpus/resumes_corpus/*.txt'))\n",
    "role_info = []\n",
    "for file in files:\n",
    "    with open(file, encoding='latin-1', errors='replace') as f:\n",
    "        role_info.append(f.read())"
   ]
  },
  {
   "cell_type": "markdown",
   "id": "4bf43780",
   "metadata": {},
   "source": [
    "## Add RAKE"
   ]
  },
  {
   "cell_type": "code",
   "execution_count": 23,
   "id": "753e175b",
   "metadata": {},
   "outputs": [],
   "source": [
    "from rake_nltk import Rake\n",
    "r = Rake()\n",
    "\n",
    "r.extract_keywords_from_text(role_info[0])\n",
    "query = r.get_ranked_phrases_with_scores()\n",
    "\n",
    "r.extract_keywords_from_text(list(job_descriptions.values())[0])\n",
    "candidate = r.get_ranked_phrases_with_scores()"
   ]
  },
  {
   "cell_type": "code",
   "execution_count": 24,
   "id": "c8af0ebd",
   "metadata": {},
   "outputs": [],
   "source": [
    "from typing import List\n",
    "\n",
    "def nucleus_sampling(freq: List[tuple], topp):\n",
    "    max_ = sum(map(lambda x: x[0], freq))\n",
    "    result = []\n",
    "    cum_prob = 0.0 \n",
    "    i = 0\n",
    "    while cum_prob < topp:\n",
    "        result.append(freq[i])\n",
    "        cum_prob += freq[i][0] / max_\n",
    "        i += 1\n",
    "    return result"
   ]
  },
  {
   "cell_type": "code",
   "execution_count": 32,
   "id": "edac62d2",
   "metadata": {},
   "outputs": [],
   "source": [
    "topp_candidate = nucleus_sampling(candidate, 0.6)"
   ]
  },
  {
   "cell_type": "code",
   "execution_count": 26,
   "id": "3aa05005",
   "metadata": {
    "scrolled": false
   },
   "outputs": [
    {
     "data": {
      "text/plain": [
       "[(64.16666666666666,\n",
       "  'paycheck processing help desk manager friend family health center'),\n",
       " (48.333333333333336, 'c ++, c ++, html additional information areas'),\n",
       " (46.62698412698412,\n",
       "  'business needs identification hippa technical skills operating systems'),\n",
       " (44.766666666666666,\n",
       "  'operations specialist chicago low income housing trust fund'),\n",
       " (41.53333333333334, 'chicago low income housing trust fund chicago'),\n",
       " (39.37142857142857,\n",
       "  'creating reports within electronic medical record systems'),\n",
       " (34.54040404040404,\n",
       "  'november 2014 technical support supervisor verizon wireless'),\n",
       " (32.54040404040404, '16 technical support call center representatives'),\n",
       " (31.416666666666664, 'service sales rep cintas first aid'),\n",
       " (29.87878787878788, 'network administrator ii onepoint patient care'),\n",
       " (28.583333333333336, 'project management southern new hampshire university'),\n",
       " (27.57142857142857, 'managing electronic medical record systems'),\n",
       " (21.5, 'expertise effective communication team leadership'),\n",
       " (21.5, 'developed first level troubleshooting documentation'),\n",
       " (21.5, 'developed first level troubleshooting documentation'),\n",
       " (20.72222222222222, 'il april 2016 skills sap'),\n",
       " (20.5, 'c ++, html 5'),\n",
       " (18.583333333333332, 'health information management team'),\n",
       " (17.833333333333332, 'information technology capella university'),\n",
       " (17.23809523809524, 'mobile device operating systems'),\n",
       " (16.666666666666668, 'assist small business customers'),\n",
       " (16.333333333333332, 'sales associate headway corp'),\n",
       " (16.0, 'performed initial client assessment'),\n",
       " (16.0, 'october 2009 education master'),\n",
       " (16.0, 'nh march 2020 bachelor'),\n",
       " (15.25, 'april 2010 teller j'),\n",
       " (15.222222222222221, 'resolve various technical issues'),\n",
       " (15.222222222222221, 'resolve various technical issues'),\n",
       " (15.0, 'successful email database migration'),\n",
       " (15.0, 'mn august 2016 associate'),\n",
       " (15.0, 'effectively resolved various issues'),\n",
       " (14.75, 'cloud base share drive'),\n",
       " (14.38961038961039, 'sfax remote support systems'),\n",
       " (14.25, 'expedite outdated work processes'),\n",
       " (13.602272727272727, 'sql server report builder'),\n",
       " (13.0, 'voip application user creation'),\n",
       " (11.459415584415584, 'microsoft sql server 2012'),\n",
       " (11.459415584415584, 'microsoft sql server 2012'),\n",
       " (11.222222222222221, 'il may 2014'),\n",
       " (10.5, 'trained new hires'),\n",
       " (10.333333333333332, 'specific department needs'),\n",
       " (10.333333333333332, 'specific department needs'),\n",
       " (10.333333333333332, 'competitive sales goals'),\n",
       " (10.0, 'developed user creation'),\n",
       " (9.75, 'weekly proactive management'),\n",
       " (9.75, 'provide base level'),\n",
       " (9.75, 'provide base level'),\n",
       " (9.75, 'provide base level'),\n",
       " (9.722222222222221, 'il november 2017'),\n",
       " (9.722222222222221, 'il january 2016'),\n",
       " (9.540404040404042, '2 technical support'),\n",
       " (9.5, 'vnc healthcare technology'),\n",
       " (9.5, 'concord cloud fax'),\n",
       " (9.472222222222221, 'il work experience'),\n",
       " (9.472222222222221, 'il august 2010'),\n",
       " (9.25, 'production work orders'),\n",
       " (9.25, 'production work orders'),\n",
       " (9.238095238095237, 'operating systems'),\n",
       " (9.222222222222221, 'il february 2015'),\n",
       " (9.151515151515152, 'user support corporate'),\n",
       " (9.0, 'termination procedure document'),\n",
       " (9.0, 'six program coordinators'),\n",
       " (9.0, 'highly complex issues'),\n",
       " (9.0, 'eight different states'),\n",
       " (9.0, 'created trouble tickets'),\n",
       " (9.0, 'analyze program coordinator'),\n",
       " (8.972222222222221, 'il february 2010'),\n",
       " (8.95, 'customer service requirements'),\n",
       " (8.95, 'customer service requirements'),\n",
       " (8.95, 'customer service requirements'),\n",
       " (8.8, 'provide statistical reports'),\n",
       " (8.75, 'oversee daily performance'),\n",
       " (8.75, 'keep performance indicators'),\n",
       " (8.722222222222221, 'il december 2008'),\n",
       " (8.666666666666666, 'help desk'),\n",
       " (8.666666666666666, 'help desk'),\n",
       " (8.666666666666666, 'developed automation software'),\n",
       " (8.602272727272727, 'sql server 2012'),\n",
       " (8.5, 'elk grove village'),\n",
       " (8.459415584415584, 'microsoft sql server'),\n",
       " (8.363636363636363, 'support telephony network'),\n",
       " (8.333333333333334, 'eight pharmacy locations'),\n",
       " (8.295454545454545, 'monitor network performance'),\n",
       " (8.227272727272727, 'windows server 2008'),\n",
       " (8.166666666666668, 'office 365 administrator'),\n",
       " (8.166666666666666, 'key internal applications'),\n",
       " (8.166666666666666, 'key internal applications'),\n",
       " (8.0, 'provided tier 1'),\n",
       " (8.0, 'cisco meraki languages'),\n",
       " (7.857142857142858, 'microsoft exchange 2007'),\n",
       " (7.8, 'ensure proper installation'),\n",
       " (7.666666666666668, 'integrated active directory'),\n",
       " (7.666666666666667, 'science daley college'),\n",
       " (7.583333333333334, 'phone internet services'),\n",
       " (7.333333333333334, 'operations supervisor'),\n",
       " (7.0, 'voip phone system'),\n",
       " (7.0, 'processing time'),\n",
       " (6.571428571428571, 'telecom systems'),\n",
       " (6.5, 'november 2017'),\n",
       " (6.5, 'email communication'),\n",
       " (6.333333333333334, 'operations specialist'),\n",
       " (6.333333333333334, 'operations specialist'),\n",
       " (6.333333333333334, 'operations specialist'),\n",
       " (6.222222222222222, 'technical personnel'),\n",
       " (6.222222222222222, 'technical personnel'),\n",
       " (6.222222222222222, 'technical personnel'),\n",
       " (6.0, 'december 2016'),\n",
       " (5.766666666666667, 'chicago department'),\n",
       " (5.75, 'license management'),\n",
       " (5.602272727272727, 'sql server'),\n",
       " (5.5, 'voip applications'),\n",
       " (5.5, 'level executives'),\n",
       " (5.5, '2 issues'),\n",
       " (5.402597402597403, 'microsoft network'),\n",
       " (5.333333333333334, 'remote locations'),\n",
       " (5.333333333333334, 'ms project'),\n",
       " (5.333333333333334, 'ms project'),\n",
       " (5.333333333333333, 'housing'),\n",
       " (5.166666666666666, 'internal applications'),\n",
       " (5.1, 'chicago ridge'),\n",
       " (5.0, 'tier 1'),\n",
       " (5.0, 'team members'),\n",
       " (5.0, 'team members'),\n",
       " (5.0, 'team members'),\n",
       " (5.0, 'orientation processes'),\n",
       " (4.875, 'sql sentry'),\n",
       " (4.833333333333334, 'office 365'),\n",
       " (4.8, 'several reports'),\n",
       " (4.75, 'performance reviews'),\n",
       " (4.727272727272727, 'server monitoring'),\n",
       " (4.727272727272727, 'server engineers'),\n",
       " (4.727272727272727, 'server engineers'),\n",
       " (4.666666666666667, 'active directory'),\n",
       " (4.666666666666667, 'active directory'),\n",
       " (4.666666666666666, 'consulted customers'),\n",
       " (4.545454545454545, 'network administrators'),\n",
       " (4.545454545454545, 'network administrators'),\n",
       " (4.545454545454545, 'network accounts'),\n",
       " (4.545454545454545, 'network accounts'),\n",
       " (4.545454545454545, 'conduct network'),\n",
       " (4.523809523809524, 'microsoft sharepoint'),\n",
       " (4.523809523809524, 'microsoft sharepoint'),\n",
       " (4.5, 'windows xp'),\n",
       " (4.5, 'morton grove'),\n",
       " (4.345454545454546, 'ensure network'),\n",
       " (4.345454545454546, 'ensure network'),\n",
       " (4.333333333333334, 'services meeting'),\n",
       " (4.333333333333334, 'ms office'),\n",
       " (4.333333333333334, 'cable services'),\n",
       " (4.166666666666666, 'educated customers'),\n",
       " (4.0, 'works closely'),\n",
       " (4.0, 'works closely'),\n",
       " (4.0, 'works closely'),\n",
       " (4.0, 'works closely'),\n",
       " (4.0, 'troubleshot smartphones'),\n",
       " (4.0, 'standards preserving'),\n",
       " (4.0, 'standards preserving'),\n",
       " (4.0, 'south side'),\n",
       " (4.0, 'sophos utm'),\n",
       " (4.0, 'sonicwall routing'),\n",
       " (4.0, 'softwriters framework'),\n",
       " (4.0, 'research process'),\n",
       " (4.0, 'related products'),\n",
       " (4.0, 'prtg monitoring'),\n",
       " (4.0, 'phone system'),\n",
       " (4.0, 'perform testing'),\n",
       " (4.0, 'ordered replacements'),\n",
       " (4.0, 'ms visio'),\n",
       " (4.0, 'morgan chase'),\n",
       " (4.0, 'manage firewalls'),\n",
       " (4.0, 'mac os'),\n",
       " (4.0, 'logmein pro'),\n",
       " (4.0, 'integra docutrack'),\n",
       " (4.0, 'included resets'),\n",
       " (4.0, 'implement policies'),\n",
       " (4.0, 'implement policies'),\n",
       " (4.0, 'hr functions'),\n",
       " (4.0, 'historical metrics'),\n",
       " (4.0, 'freshservice ticketing'),\n",
       " (4.0, 'feature phones'),\n",
       " (4.0, 'collaborate closely'),\n",
       " (4.0, 'collaborate closely'),\n",
       " (4.0, 'checking area'),\n",
       " (4.0, 'cell phones'),\n",
       " (4.0, 'automatic programming'),\n",
       " (4.0, 'arxium medselect'),\n",
       " (3.8333333333333335, 'c'),\n",
       " (3.8333333333333335, 'c'),\n",
       " (3.8333333333333335, 'c'),\n",
       " (3.8333333333333335, '7 locations'),\n",
       " (3.8, 'train end'),\n",
       " (3.8, 'train end'),\n",
       " (3.8, 'train end'),\n",
       " (3.8, 'adaptability end'),\n",
       " (3.666666666666667, 'software updates'),\n",
       " (3.666666666666667, 'preventative maintenance'),\n",
       " (3.666666666666667, 'preventative maintenance'),\n",
       " (3.666666666666667, 'maintain databases'),\n",
       " (3.666666666666667, 'maintain databases'),\n",
       " (3.666666666666667, 'centricity software'),\n",
       " (3.6666666666666665, 'troubleshooting'),\n",
       " (3.5, 'wordpress website'),\n",
       " (3.5, 'supported onboarding'),\n",
       " (3.5, 'september 2013'),\n",
       " (3.5, 'quarterly reporting'),\n",
       " (3.5, 'ms access'),\n",
       " (3.5, 'ms access'),\n",
       " (3.5, 'managed 10'),\n",
       " (3.5, 'hp switch'),\n",
       " (3.5, 'data availability'),\n",
       " (3.5, 'data availability'),\n",
       " (3.5, 'citrix sharefile'),\n",
       " (3.3333333333333335, 'install software'),\n",
       " (3.3333333333333335, 'install software'),\n",
       " (3.3333333333333335, 'administrator'),\n",
       " (3.333333333333333, 'repair hardware'),\n",
       " (3.333333333333333, 'repair hardware'),\n",
       " (3.333333333333333, 'problem analysis'),\n",
       " (3.333333333333333, '250 users'),\n",
       " (3.333333333333333, '220 users'),\n",
       " (3.1, 'chicago'),\n",
       " (3.1, 'chicago'),\n",
       " (3.1, 'chicago'),\n",
       " (3.1, 'chicago'),\n",
       " (3.1, 'chicago'),\n",
       " (3.0, 'sap'),\n",
       " (3.0, 'issues'),\n",
       " (3.0, '2012'),\n",
       " (2.875, 'sql'),\n",
       " (2.8333333333333335, 'operations'),\n",
       " (2.8181818181818183, 'support'),\n",
       " (2.8181818181818183, 'support'),\n",
       " (2.8181818181818183, 'support'),\n",
       " (2.8181818181818183, 'support'),\n",
       " (2.8181818181818183, 'support'),\n",
       " (2.8, 'reports'),\n",
       " (2.8, 'reports'),\n",
       " (2.75, '2010'),\n",
       " (2.727272727272727, 'server'),\n",
       " (2.6666666666666665, 'creation'),\n",
       " (2.25, 'phone'),\n",
       " (2.2, 'requirements'),\n",
       " (2.2, 'requirements'),\n",
       " (2.0, 'exchange'),\n",
       " (2.0, 'cisco'),\n",
       " (1.8, 'ensure'),\n",
       " (1.8, 'ensure'),\n",
       " (1.8, 'end'),\n",
       " (1.75, 'system'),\n",
       " (1.75, 'system'),\n",
       " (1.6666666666666667, 'software'),\n",
       " (1.6666666666666667, 'software'),\n",
       " (1.6666666666666667, 'software'),\n",
       " (1.6666666666666667, 'software'),\n",
       " (1.6666666666666667, 'sharepoint'),\n",
       " (1.6666666666666667, 'science'),\n",
       " (1.6666666666666667, 'science'),\n",
       " (1.6666666666666667, 'maintenance'),\n",
       " (1.6666666666666667, 'maintain'),\n",
       " (1.6666666666666667, 'install'),\n",
       " (1.5, 'wordpress'),\n",
       " (1.5, 'time'),\n",
       " (1.5, 'supported'),\n",
       " (1.5, 'reporting'),\n",
       " (1.5, 'hp'),\n",
       " (1.5, 'educated'),\n",
       " (1.5, 'data'),\n",
       " (1.5, 'data'),\n",
       " (1.5, 'citrix'),\n",
       " (1.5, 'access'),\n",
       " (1.5, 'access'),\n",
       " (1.5, '7'),\n",
       " (1.5, '2013'),\n",
       " (1.5, '10'),\n",
       " (1.3333333333333333, 'users'),\n",
       " (1.3333333333333333, 'users'),\n",
       " (1.3333333333333333, 'users'),\n",
       " (1.3333333333333333, 'users'),\n",
       " (1.3333333333333333, 'hardware'),\n",
       " (1.3333333333333333, 'hardware'),\n",
       " (1.3333333333333333, 'hardware'),\n",
       " (1.3333333333333333, 'hardware'),\n",
       " (1.3333333333333333, 'analysis'),\n",
       " (1.3333333333333333, 'analysis'),\n",
       " (1.0, 'yardi'),\n",
       " (1.0, 'workflow'),\n",
       " (1.0, 'use'),\n",
       " (1.0, 'upgrades'),\n",
       " (1.0, 'upgrades'),\n",
       " (1.0, 'total'),\n",
       " (1.0, 'total'),\n",
       " (1.0, 'tablets'),\n",
       " (1.0, 'tableau'),\n",
       " (1.0, 'tableau'),\n",
       " (1.0, 'supports'),\n",
       " (1.0, 'solarwinds'),\n",
       " (1.0, 'solarwinds'),\n",
       " (1.0, 'smartchart'),\n",
       " (1.0, 'site'),\n",
       " (1.0, 'shoretel'),\n",
       " (1.0, 'setup'),\n",
       " (1.0, 'security'),\n",
       " (1.0, 'security'),\n",
       " (1.0, 'safety'),\n",
       " (1.0, 'requests'),\n",
       " (1.0, 'recommend'),\n",
       " (1.0, 'recommend'),\n",
       " (1.0, 'real'),\n",
       " (1.0, 'quickbooks'),\n",
       " (1.0, 'purchases'),\n",
       " (1.0, 'programs'),\n",
       " (1.0, 'programs'),\n",
       " (1.0, 'procedures'),\n",
       " (1.0, 'procedures'),\n",
       " (1.0, 'present'),\n",
       " (1.0, 'powershell'),\n",
       " (1.0, 'participates'),\n",
       " (1.0, 'participated'),\n",
       " (1.0, 'p'),\n",
       " (1.0, 'outages'),\n",
       " (1.0, 'open'),\n",
       " (1.0, 'nutanix'),\n",
       " (1.0, 'non'),\n",
       " (1.0, 'non'),\n",
       " (1.0, 'non'),\n",
       " (1.0, 'needed'),\n",
       " (1.0, 'needed'),\n",
       " (1.0, 'necessary'),\n",
       " (1.0, 'mysql'),\n",
       " (1.0, 'mysql'),\n",
       " (1.0, 'modify'),\n",
       " (1.0, 'modify'),\n",
       " (1.0, 'modeling'),\n",
       " (1.0, 'minneapolis'),\n",
       " (1.0, 'met'),\n",
       " (1.0, 'met'),\n",
       " (1.0, 'meet'),\n",
       " (1.0, 'meet'),\n",
       " (1.0, 'meet'),\n",
       " (1.0, 'manual'),\n",
       " (1.0, 'manchester'),\n",
       " (1.0, 'lenovo'),\n",
       " (1.0, 'java'),\n",
       " (1.0, 'integrity'),\n",
       " (1.0, 'integrity'),\n",
       " (1.0, 'integrity'),\n",
       " (1.0, 'integrity'),\n",
       " (1.0, 'infrastructures'),\n",
       " (1.0, 'funding'),\n",
       " (1.0, 'exceed'),\n",
       " (1.0, 'exceed'),\n",
       " (1.0, 'exceed'),\n",
       " (1.0, 'escalate'),\n",
       " (1.0, 'escalate'),\n",
       " (1.0, 'epic'),\n",
       " (1.0, 'elgin'),\n",
       " (1.0, 'ed'),\n",
       " (1.0, 'dreamhost'),\n",
       " (1.0, 'devices'),\n",
       " (1.0, 'desktop'),\n",
       " (1.0, 'design'),\n",
       " (1.0, 'dell'),\n",
       " (1.0, 'deletion'),\n",
       " (1.0, 'deadlines'),\n",
       " (1.0, 'deadlines'),\n",
       " (1.0, 'creator'),\n",
       " (1.0, 'create'),\n",
       " (1.0, 'create'),\n",
       " (1.0, 'consisted'),\n",
       " (1.0, 'connectwise'),\n",
       " (1.0, 'clinked'),\n",
       " (1.0, 'city'),\n",
       " (1.0, 'cerner'),\n",
       " (1.0, 'cables'),\n",
       " (1.0, 'budget'),\n",
       " (1.0, 'bomgar'),\n",
       " (1.0, 'balancing'),\n",
       " (1.0, 'axosoft'),\n",
       " (1.0, 'assists'),\n",
       " (1.0, 'alliance'),\n",
       " (1.0, 'advocate'),\n",
       " (1.0, 'addressed'),\n",
       " (1.0, 'address'),\n",
       " (1.0, '8')]"
      ]
     },
     "execution_count": 26,
     "metadata": {},
     "output_type": "execute_result"
    }
   ],
   "source": [
    "query"
   ]
  },
  {
   "cell_type": "code",
   "execution_count": 69,
   "id": "ff3abd00",
   "metadata": {},
   "outputs": [],
   "source": [
    "topp_query = nucleus_sampling(query, 0.3)"
   ]
  },
  {
   "cell_type": "code",
   "execution_count": 29,
   "id": "06b060b6",
   "metadata": {},
   "outputs": [
    {
     "data": {
      "application/vnd.jupyter.widget-view+json": {
       "model_id": "a1efa9d243ec41bba058b335992a4e26",
       "version_major": 2,
       "version_minor": 0
      },
      "text/plain": [
       "Downloading:   0%|          | 0.00/1.18k [00:00<?, ?B/s]"
      ]
     },
     "metadata": {},
     "output_type": "display_data"
    },
    {
     "data": {
      "application/vnd.jupyter.widget-view+json": {
       "model_id": "839e5f2cf5af42288fc9973069c400bd",
       "version_major": 2,
       "version_minor": 0
      },
      "text/plain": [
       "Downloading:   0%|          | 0.00/190 [00:00<?, ?B/s]"
      ]
     },
     "metadata": {},
     "output_type": "display_data"
    },
    {
     "data": {
      "application/vnd.jupyter.widget-view+json": {
       "model_id": "78d2d049a0f94b6a8d1e3a0f991721a0",
       "version_major": 2,
       "version_minor": 0
      },
      "text/plain": [
       "Downloading:   0%|          | 0.00/10.6k [00:00<?, ?B/s]"
      ]
     },
     "metadata": {},
     "output_type": "display_data"
    },
    {
     "data": {
      "application/vnd.jupyter.widget-view+json": {
       "model_id": "41cc0981234a4f66a9957292bfc994a3",
       "version_major": 2,
       "version_minor": 0
      },
      "text/plain": [
       "Downloading:   0%|          | 0.00/612 [00:00<?, ?B/s]"
      ]
     },
     "metadata": {},
     "output_type": "display_data"
    },
    {
     "data": {
      "application/vnd.jupyter.widget-view+json": {
       "model_id": "d7710bd04a63438385727268dfd2a4c5",
       "version_major": 2,
       "version_minor": 0
      },
      "text/plain": [
       "Downloading:   0%|          | 0.00/116 [00:00<?, ?B/s]"
      ]
     },
     "metadata": {},
     "output_type": "display_data"
    },
    {
     "data": {
      "application/vnd.jupyter.widget-view+json": {
       "model_id": "13b013cd92d94d9d83d6a17c7604bd74",
       "version_major": 2,
       "version_minor": 0
      },
      "text/plain": [
       "Downloading:   0%|          | 0.00/39.3k [00:00<?, ?B/s]"
      ]
     },
     "metadata": {},
     "output_type": "display_data"
    },
    {
     "data": {
      "application/vnd.jupyter.widget-view+json": {
       "model_id": "04eedf44b1444cb0b1bd1d60cfc86c0e",
       "version_major": 2,
       "version_minor": 0
      },
      "text/plain": [
       "Downloading:   0%|          | 0.00/90.9M [00:00<?, ?B/s]"
      ]
     },
     "metadata": {},
     "output_type": "display_data"
    },
    {
     "data": {
      "application/vnd.jupyter.widget-view+json": {
       "model_id": "e88c1520fac94d50a346be9bee35fdb3",
       "version_major": 2,
       "version_minor": 0
      },
      "text/plain": [
       "Downloading:   0%|          | 0.00/53.0 [00:00<?, ?B/s]"
      ]
     },
     "metadata": {},
     "output_type": "display_data"
    },
    {
     "data": {
      "application/vnd.jupyter.widget-view+json": {
       "model_id": "9e8d1e29b3144a0cb74b6d6b011b3268",
       "version_major": 2,
       "version_minor": 0
      },
      "text/plain": [
       "Downloading:   0%|          | 0.00/112 [00:00<?, ?B/s]"
      ]
     },
     "metadata": {},
     "output_type": "display_data"
    },
    {
     "data": {
      "application/vnd.jupyter.widget-view+json": {
       "model_id": "aaf9519559244d05b19115925d847c1a",
       "version_major": 2,
       "version_minor": 0
      },
      "text/plain": [
       "Downloading:   0%|          | 0.00/466k [00:00<?, ?B/s]"
      ]
     },
     "metadata": {},
     "output_type": "display_data"
    },
    {
     "data": {
      "application/vnd.jupyter.widget-view+json": {
       "model_id": "4b694efab48844008586eeba3ec28f8d",
       "version_major": 2,
       "version_minor": 0
      },
      "text/plain": [
       "Downloading:   0%|          | 0.00/350 [00:00<?, ?B/s]"
      ]
     },
     "metadata": {},
     "output_type": "display_data"
    },
    {
     "data": {
      "application/vnd.jupyter.widget-view+json": {
       "model_id": "e9a2c17e87ff432e8d94847dd3d8dcc3",
       "version_major": 2,
       "version_minor": 0
      },
      "text/plain": [
       "Downloading:   0%|          | 0.00/13.2k [00:00<?, ?B/s]"
      ]
     },
     "metadata": {},
     "output_type": "display_data"
    },
    {
     "data": {
      "application/vnd.jupyter.widget-view+json": {
       "model_id": "56bac86ecbf441ed9c9ff9ee3072ae6b",
       "version_major": 2,
       "version_minor": 0
      },
      "text/plain": [
       "Downloading:   0%|          | 0.00/232k [00:00<?, ?B/s]"
      ]
     },
     "metadata": {},
     "output_type": "display_data"
    },
    {
     "data": {
      "application/vnd.jupyter.widget-view+json": {
       "model_id": "dcf63d581b6e47d19138f875f76e6b8e",
       "version_major": 2,
       "version_minor": 0
      },
      "text/plain": [
       "Downloading:   0%|          | 0.00/349 [00:00<?, ?B/s]"
      ]
     },
     "metadata": {},
     "output_type": "display_data"
    }
   ],
   "source": [
    "from sentence_transformers import SentenceTransformer\n",
    "\n",
    "model = SentenceTransformer('all-MiniLM-L6-v2')"
   ]
  },
  {
   "cell_type": "code",
   "execution_count": 30,
   "id": "056fb90f",
   "metadata": {},
   "outputs": [],
   "source": [
    "def match_sentence(text1: List[str], text2: List[str], model):\n",
    "    rep1 = model.encode(text1)\n",
    "    rep2 = model.encode(text2)\n",
    "    return cosine_similarity(rep1, rep2)"
   ]
  },
  {
   "cell_type": "code",
   "execution_count": 46,
   "id": "13beb082",
   "metadata": {},
   "outputs": [
    {
     "name": "stdout",
     "output_type": "stream",
     "text": [
      "['service sales rep cintas first aid'] ['additional qualifications saint cloud high school saint cloud']\n"
     ]
    },
    {
     "data": {
      "text/plain": [
       "array([[0.11060853]], dtype=float32)"
      ]
     },
     "execution_count": 46,
     "metadata": {},
     "output_type": "execute_result"
    }
   ],
   "source": [
    "q = [topp_query[8][1]]\n",
    "c = [topp_candidate[6][1]]\n",
    "print(q, c)\n",
    "match_sentence(q, c, model=model)"
   ]
  },
  {
   "cell_type": "code",
   "execution_count": 65,
   "id": "abecdbc4",
   "metadata": {},
   "outputs": [],
   "source": [
    "def set_to_set_match(query_kw, candidate_kw, model, threshold=0.6):\n",
    "    relevant = []\n",
    "    irrelevant = []\n",
    "    query_list = list(map(lambda x: x[1], query_kw))\n",
    "    candidate_list = list(map(lambda x: x[1], candidate_kw))\n",
    "    scores = match_sentence(query_list, candidate_list, model=model)\n",
    "    values = np.max(scores.T, axis=1)\n",
    "    for i, val in enumerate(values):\n",
    "        if val >= threshold:\n",
    "            relevant.append((candidate_kw[i][1], val))\n",
    "        else:\n",
    "            irrelevant.append((candidate_kw[i][1], val))\n",
    "    return relevant, irrelevant"
   ]
  },
  {
   "cell_type": "code",
   "execution_count": 68,
   "id": "51509d92",
   "metadata": {},
   "outputs": [
    {
     "ename": "RuntimeError",
     "evalue": "CUDA error: unspecified launch failure\nCUDA kernel errors might be asynchronously reported at some other API call,so the stacktrace below might be incorrect.\nFor debugging consider passing CUDA_LAUNCH_BLOCKING=1.",
     "output_type": "error",
     "traceback": [
      "\u001b[0;31m---------------------------------------------------------------------------\u001b[0m",
      "\u001b[0;31mRuntimeError\u001b[0m                              Traceback (most recent call last)",
      "Input \u001b[0;32mIn [68]\u001b[0m, in \u001b[0;36m<cell line: 1>\u001b[0;34m()\u001b[0m\n\u001b[0;32m----> 1\u001b[0m rel, irrel \u001b[38;5;241m=\u001b[39m \u001b[43mset_to_set_match\u001b[49m\u001b[43m(\u001b[49m\u001b[43mtopp_query\u001b[49m\u001b[43m,\u001b[49m\u001b[43m \u001b[49m\u001b[43mtopp_candidate\u001b[49m\u001b[43m,\u001b[49m\u001b[43m \u001b[49m\u001b[43mmodel\u001b[49m\u001b[43m,\u001b[49m\u001b[43m \u001b[49m\u001b[43mthreshold\u001b[49m\u001b[38;5;241;43m=\u001b[39;49m\u001b[38;5;241;43m0.4\u001b[39;49m\u001b[43m)\u001b[49m\n\u001b[1;32m      2\u001b[0m \u001b[38;5;28mprint\u001b[39m(rel)\n",
      "Input \u001b[0;32mIn [65]\u001b[0m, in \u001b[0;36mset_to_set_match\u001b[0;34m(query_kw, candidate_kw, model, threshold)\u001b[0m\n\u001b[1;32m      4\u001b[0m     query_list \u001b[38;5;241m=\u001b[39m \u001b[38;5;28mlist\u001b[39m(\u001b[38;5;28mmap\u001b[39m(\u001b[38;5;28;01mlambda\u001b[39;00m x: x[\u001b[38;5;241m1\u001b[39m], query_kw))\n\u001b[1;32m      5\u001b[0m     candidate_list \u001b[38;5;241m=\u001b[39m \u001b[38;5;28mlist\u001b[39m(\u001b[38;5;28mmap\u001b[39m(\u001b[38;5;28;01mlambda\u001b[39;00m x: x[\u001b[38;5;241m1\u001b[39m], candidate_kw))\n\u001b[0;32m----> 6\u001b[0m     scores \u001b[38;5;241m=\u001b[39m \u001b[43mmatch_sentence\u001b[49m\u001b[43m(\u001b[49m\u001b[43mquery_list\u001b[49m\u001b[43m,\u001b[49m\u001b[43m \u001b[49m\u001b[43mcandidate_list\u001b[49m\u001b[43m,\u001b[49m\u001b[43m \u001b[49m\u001b[43mmodel\u001b[49m\u001b[38;5;241;43m=\u001b[39;49m\u001b[43mmodel\u001b[49m\u001b[43m)\u001b[49m\n\u001b[1;32m      7\u001b[0m \u001b[38;5;66;03m#     print(len(query_list))\u001b[39;00m\n\u001b[1;32m      8\u001b[0m \u001b[38;5;66;03m#     print(len(candidate_list))\u001b[39;00m\n\u001b[1;32m      9\u001b[0m \u001b[38;5;66;03m#     print(scores.shape)\u001b[39;00m\n\u001b[1;32m     10\u001b[0m     values \u001b[38;5;241m=\u001b[39m np\u001b[38;5;241m.\u001b[39mmax(scores\u001b[38;5;241m.\u001b[39mT, axis\u001b[38;5;241m=\u001b[39m\u001b[38;5;241m1\u001b[39m)\n",
      "Input \u001b[0;32mIn [30]\u001b[0m, in \u001b[0;36mmatch_sentence\u001b[0;34m(text1, text2, model)\u001b[0m\n\u001b[1;32m      1\u001b[0m \u001b[38;5;28;01mdef\u001b[39;00m \u001b[38;5;21mmatch_sentence\u001b[39m(text1, text2, model):\n\u001b[0;32m----> 2\u001b[0m     rep1 \u001b[38;5;241m=\u001b[39m \u001b[43mmodel\u001b[49m\u001b[38;5;241;43m.\u001b[39;49m\u001b[43mencode\u001b[49m\u001b[43m(\u001b[49m\u001b[43mtext1\u001b[49m\u001b[43m)\u001b[49m\n\u001b[1;32m      3\u001b[0m     rep2 \u001b[38;5;241m=\u001b[39m model\u001b[38;5;241m.\u001b[39mencode(text2)\n\u001b[1;32m      4\u001b[0m     \u001b[38;5;28;01mreturn\u001b[39;00m cosine_similarity(rep1, rep2)\n",
      "File \u001b[0;32m~/anaconda3/envs/ml/lib/python3.8/site-packages/sentence_transformers/SentenceTransformer.py:162\u001b[0m, in \u001b[0;36mSentenceTransformer.encode\u001b[0;34m(self, sentences, batch_size, show_progress_bar, output_value, convert_to_numpy, convert_to_tensor, device, normalize_embeddings)\u001b[0m\n\u001b[1;32m    160\u001b[0m sentences_batch \u001b[38;5;241m=\u001b[39m sentences_sorted[start_index:start_index\u001b[38;5;241m+\u001b[39mbatch_size]\n\u001b[1;32m    161\u001b[0m features \u001b[38;5;241m=\u001b[39m \u001b[38;5;28mself\u001b[39m\u001b[38;5;241m.\u001b[39mtokenize(sentences_batch)\n\u001b[0;32m--> 162\u001b[0m features \u001b[38;5;241m=\u001b[39m \u001b[43mbatch_to_device\u001b[49m\u001b[43m(\u001b[49m\u001b[43mfeatures\u001b[49m\u001b[43m,\u001b[49m\u001b[43m \u001b[49m\u001b[43mdevice\u001b[49m\u001b[43m)\u001b[49m\n\u001b[1;32m    164\u001b[0m \u001b[38;5;28;01mwith\u001b[39;00m torch\u001b[38;5;241m.\u001b[39mno_grad():\n\u001b[1;32m    165\u001b[0m     out_features \u001b[38;5;241m=\u001b[39m \u001b[38;5;28mself\u001b[39m\u001b[38;5;241m.\u001b[39mforward(features)\n",
      "File \u001b[0;32m~/anaconda3/envs/ml/lib/python3.8/site-packages/sentence_transformers/util.py:300\u001b[0m, in \u001b[0;36mbatch_to_device\u001b[0;34m(batch, target_device)\u001b[0m\n\u001b[1;32m    298\u001b[0m \u001b[38;5;28;01mfor\u001b[39;00m key \u001b[38;5;129;01min\u001b[39;00m batch:\n\u001b[1;32m    299\u001b[0m     \u001b[38;5;28;01mif\u001b[39;00m \u001b[38;5;28misinstance\u001b[39m(batch[key], Tensor):\n\u001b[0;32m--> 300\u001b[0m         batch[key] \u001b[38;5;241m=\u001b[39m \u001b[43mbatch\u001b[49m\u001b[43m[\u001b[49m\u001b[43mkey\u001b[49m\u001b[43m]\u001b[49m\u001b[38;5;241;43m.\u001b[39;49m\u001b[43mto\u001b[49m\u001b[43m(\u001b[49m\u001b[43mtarget_device\u001b[49m\u001b[43m)\u001b[49m\n\u001b[1;32m    301\u001b[0m \u001b[38;5;28;01mreturn\u001b[39;00m batch\n",
      "\u001b[0;31mRuntimeError\u001b[0m: CUDA error: unspecified launch failure\nCUDA kernel errors might be asynchronously reported at some other API call,so the stacktrace below might be incorrect.\nFor debugging consider passing CUDA_LAUNCH_BLOCKING=1."
     ]
    }
   ],
   "source": [
    "rel, irrel = set_to_set_match(topp_query, topp_candidate, model, threshold=0.4)\n",
    "print(rel)"
   ]
  },
  {
   "cell_type": "code",
   "execution_count": null,
   "id": "0420fef9",
   "metadata": {},
   "outputs": [],
   "source": []
  }
 ],
 "metadata": {
  "kernelspec": {
   "display_name": "Python 3 (ipykernel)",
   "language": "python",
   "name": "python3"
  },
  "language_info": {
   "codemirror_mode": {
    "name": "ipython",
    "version": 3
   },
   "file_extension": ".py",
   "mimetype": "text/x-python",
   "name": "python",
   "nbconvert_exporter": "python",
   "pygments_lexer": "ipython3",
   "version": "3.8.12"
  }
 },
 "nbformat": 4,
 "nbformat_minor": 5
}
